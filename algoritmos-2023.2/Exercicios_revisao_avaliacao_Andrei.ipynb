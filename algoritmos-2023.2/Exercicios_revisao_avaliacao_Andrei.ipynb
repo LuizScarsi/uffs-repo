{
  "cells": [
    {
      "cell_type": "markdown",
      "metadata": {
        "id": "J8VA_5Vy9Y01"
      },
      "source": [
        "# Exercícios de Revisão para a Prova"
      ]
    },
    {
      "cell_type": "markdown",
      "metadata": {
        "id": "cDS8q_9wsaBl"
      },
      "source": [
        "Material adaptado a partir do material das Profs. Andressa e Marina (semestre 2023/1).\n",
        "\n",
        "**Dica: salve uma cópia no seu Google Drive para que seja possível gravar seus exercícios.**"
      ]
    },
    {
      "cell_type": "markdown",
      "metadata": {
        "id": "o8e4maI22paT"
      },
      "source": [
        "---\n",
        "O **Algoritmo de Euclides** está presente no quinto livro de Euclides, escrito por volta de 300 anos antes de Cristo. Sua finalidade é calcular o Máximo Divisor Comum (M.D.C.), sendo um algoritmo que desempenha importante papel na matemática.\n",
        "\n",
        "![](https://drive.google.com/uc?export=view&id=1Erql3qFWzBEaGxT-7VAoTfVae7HrB32n)\n",
        "\n",
        "Segue-se o algoritmo para calcular o MDC(a, b):\n",
        "1.  Leia duas variáveis a e b\n",
        "2.  r = resto da divisão entre a e b\n",
        "3.  a = b\n",
        "4.  b = r\n",
        "5.  Se o valor de **r** é zero, então **a** é o M.D.C. procurado e o programa termina; caso contrário, volte ao passo 2.\n",
        "\n",
        "**1** - Crie uma função que receba dois números naturais diferentes de zero e retorne o M.D.C entre esses dois números. Teste a função com alguns exemplos."
      ]
    },
    {
      "cell_type": "code",
      "execution_count": 7,
      "metadata": {
        "id": "LOR1bZ724W37"
      },
      "outputs": [
        {
          "name": "stdout",
          "output_type": "stream",
          "text": [
            "17\n",
            "3\n",
            "Números inválidos\n"
          ]
        }
      ],
      "source": [
        "def mdc(n1, n2):\n",
        "    if n1 == 0 or n2 == 0:\n",
        "        return \"Números inválidos\"\n",
        "    while True:\n",
        "        r = n1 % n2\n",
        "        if r == 0:\n",
        "            return n2\n",
        "        n1 = n2\n",
        "        n2 = r\n",
        "print(mdc(544, 119))\n",
        "print(mdc(66, 15))\n",
        "print(mdc(0,22))"
      ]
    },
    {
      "cell_type": "markdown",
      "metadata": {
        "id": "I1oyMX-nAxOl"
      },
      "source": [
        "---\n",
        "**2** - Crie uma função que receba um inteiro, diferente de zero, e retorne a sequência de valores pares existentes entre 0 (inclusive) e o respectivo valor (exclusive). Teste a função com alguns exemplos."
      ]
    },
    {
      "cell_type": "code",
      "execution_count": 9,
      "metadata": {
        "id": "WKqcfEryBN7e"
      },
      "outputs": [
        {
          "data": {
            "text/plain": [
              "[0, 2, 4, 6, 8, 10]"
            ]
          },
          "execution_count": 9,
          "metadata": {},
          "output_type": "execute_result"
        }
      ],
      "source": [
        "def find_evens(num):\n",
        "    evens = []\n",
        "    for i in range(num):\n",
        "        if i % 2 == 0:\n",
        "            evens.append(i)\n",
        "    return evens\n",
        "\n",
        "find_evens(12)"
      ]
    },
    {
      "cell_type": "markdown",
      "metadata": {
        "id": "n-NmG67LC48l"
      },
      "source": [
        "---\n",
        "**3** - Crie uma função que recebe um número natural maior que 0 e um caractere. A função deve imprimir uma sequência desse caractere no formato  diagonal conforme a figura abaixo. A quantidade de linhas de impressão é definida pelo número repassado como parâmetro para a função. Teste a função com alguns exemplos.\n",
        "```\n",
        "*\n",
        "* *\n",
        "* * *\n",
        "* * * *\n",
        "```"
      ]
    },
    {
      "cell_type": "code",
      "execution_count": 19,
      "metadata": {
        "id": "IMrMZrK6rpDT"
      },
      "outputs": [
        {
          "name": "stdout",
          "output_type": "stream",
          "text": [
            "a\n",
            "aa\n",
            "aaa\n",
            "aaaa\n",
            "zs\n",
            "zszs\n",
            "zszszs\n",
            "zszszszs\n",
            "zszszszszs\n",
            "zszszszszszs\n"
          ]
        }
      ],
      "source": [
        "def print_diagonal(num, char):\n",
        "    if len(char) > 1:\n",
        "        print(\"\")\n",
        "    for i in range(num):\n",
        "        print(char * (i+1))\n",
        "\n",
        "print_diagonal(4, \"a\")\n",
        "print_diagonal(6, \"z\")"
      ]
    },
    {
      "cell_type": "markdown",
      "metadata": {
        "id": "vNVTEprl806F"
      },
      "source": [
        "---\n",
        "**4** - Crie uma função usando o comando `for` que, dado um número inteiro positivo, imprima as linhas do chamado Triângulo de Floyd com a quantidade de linhas conforme o número informado. Teste a função com alguns exemplos.\n",
        "\n",
        "Exemplo do Triângulo de Floyd quando o número repassado é 6.\n",
        "```\n",
        "1\n",
        "2 3\n",
        "4 5 6\n",
        "7 8 9 10\n",
        "11 12 13 14 15\n",
        "16 17 18 19 20 21\n",
        "```"
      ]
    },
    {
      "cell_type": "code",
      "execution_count": null,
      "metadata": {
        "id": "DZjWtUtd9Xvl"
      },
      "outputs": [],
      "source": []
    },
    {
      "cell_type": "markdown",
      "metadata": {
        "id": "zKCyKeMa-lIF"
      },
      "source": [
        "---\n",
        "**5** - Crie um programa que leia as idades de um conjunto de 10 pessoas e armazene numa lista. Caso o valor de idade informado seja menor que 1 ou maior que 130, o programa deve solicitar uma nova entrada para o usuário e descartar o valor inválido digitado.\n",
        "\n",
        "Compute a média de idades a partir da lista e imprima esse resultado assim como a lista de todas as idades."
      ]
    },
    {
      "cell_type": "code",
      "execution_count": null,
      "metadata": {
        "id": "jnbAEgXF_R-V"
      },
      "outputs": [],
      "source": []
    },
    {
      "cell_type": "markdown",
      "metadata": {
        "id": "da4ZunD5QLnk"
      },
      "source": [
        "---\n",
        "**6** - Crie uma função que recebe um valor natural diferente de zero e retorne o resultado da série `S`, utilizando a seguinte fórmula:\n",
        "\n",
        "\n",
        "![](https://drive.google.com/uc?export=view&id=1wJS6mG8BsgEml1roWy2nLQcLdMNKP8LO)\n",
        "\n",
        "\n",
        "Para o número 20 o resultado da série é 0.33122859682457195"
      ]
    },
    {
      "cell_type": "code",
      "execution_count": null,
      "metadata": {
        "id": "d0vY4zHCSKFg"
      },
      "outputs": [],
      "source": []
    },
    {
      "cell_type": "markdown",
      "metadata": {
        "id": "MNUwQfl5D8N-"
      },
      "source": [
        "---\n",
        "**7** - Crie uma função que recebe um texto (`string`) e retorna a quantidade de vogais existentes nesse texto. Teste a função com alguns exemplos.\n",
        "\n",
        "Dicas:\n",
        "* uma string pode ser tratada como uma lista (vetor) de letras;\n",
        "* o conjunto de vogais também pode ser definido como uma lista (vetor)."
      ]
    },
    {
      "cell_type": "code",
      "execution_count": null,
      "metadata": {
        "id": "BATS_SwylgNc"
      },
      "outputs": [],
      "source": []
    },
    {
      "cell_type": "markdown",
      "metadata": {
        "id": "9pyXhZ1rLPKk"
      },
      "source": [
        "---\n",
        "Um palíndromo é uma palavra, frase ou número que é idêntico quando lido de frente para trás ou de trás para frente. São exemplos de palavras palíndromas: \"arara\", \"osso\", \"mirim\", \"radar\", \"reviver\", \"socos\", \"saias\".\n",
        "\n",
        "**8** - Crie uma função que receba uma palavra e retorne verdadeiro se esta é um palíndromo, ou falso, caso contrário. Não use a função `reverse()`. Teste a função com alguns exemplos."
      ]
    },
    {
      "cell_type": "code",
      "execution_count": null,
      "metadata": {
        "id": "Asd2xlbixOq9"
      },
      "outputs": [],
      "source": []
    },
    {
      "cell_type": "markdown",
      "metadata": {
        "id": "9iIUlTXfxPFz"
      },
      "source": [
        "---\n",
        "**9** - Crie uma estrutura (classe) para armazenar os dados de um automóvel. Esse automóvel possui um nome/modelo, marca, ano, cor, uma lista com adicionais, velocidade máxima e número de rodas.\n",
        "\n",
        "Crie dois automóveis (objetos concretos) com seus respectivos dados e depois imprima os dados de cada um dos automóveis.\n"
      ]
    },
    {
      "cell_type": "code",
      "execution_count": null,
      "metadata": {
        "id": "_6qP-lhuxPP7"
      },
      "outputs": [],
      "source": []
    },
    {
      "cell_type": "markdown",
      "metadata": {
        "id": "hrcWqFXP3gmS"
      },
      "source": [
        "---\n",
        "**10** - Adapte a função da questão 5 ou 6 para que o retorno dela seja uma matriz quadrada contendo o triângulo de Floyd. Os espaços em branco devem ser preenchidos com o número 0. Teste a função com alguns exemplos e busque imprimir a matriz formatada.\n",
        "Exemplo do retorno da função quando o número repassado é 6:\n",
        "```\n",
        "[[ 1,  0,  0,  0,  0,  0],\n",
        " [ 2,  3,  0,  0,  0,  0],\n",
        " [ 4,  5,  6,  0,  0,  0],\n",
        " [ 7,  8,  9, 10,  0,  0],\n",
        " [11, 12, 13, 14, 15,  0],\n",
        " [16, 17, 18, 19, 20, 21]]\n",
        "```\n",
        "Função que imprime uma matriz de forma formatada:\n",
        "```\n",
        "def imprimir_matriz(matriz):\n",
        "    for l in range(len(matriz)):\n",
        "\t    for c in range(len(matriz[0])):\n",
        "\t\t    print(f'[{matriz[l][c]:^5}]', end='')\n",
        "\t    print()\n",
        "    print()\n",
        "```"
      ]
    },
    {
      "cell_type": "code",
      "execution_count": null,
      "metadata": {
        "id": "WeisVucJ3haA"
      },
      "outputs": [],
      "source": []
    }
  ],
  "metadata": {
    "colab": {
      "provenance": []
    },
    "kernelspec": {
      "display_name": "Python 3",
      "name": "python3"
    },
    "language_info": {
      "codemirror_mode": {
        "name": "ipython",
        "version": 3
      },
      "file_extension": ".py",
      "mimetype": "text/x-python",
      "name": "python",
      "nbconvert_exporter": "python",
      "pygments_lexer": "ipython3",
      "version": "3.12.0"
    }
  },
  "nbformat": 4,
  "nbformat_minor": 0
}
